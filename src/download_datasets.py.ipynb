{
 "cells": [
  {
   "cell_type": "markdown",
   "id": "banned-organ",
   "metadata": {},
   "source": [
    "Download ISIC 2018 dataset"
   ]
  },
  {
   "cell_type": "code",
   "execution_count": 13,
   "id": "american-nickname",
   "metadata": {},
   "outputs": [
    {
     "name": "stdout",
     "output_type": "stream",
     "text": [
      "/home/staff/azad/deeplearning/datasets/ISIC2018\n",
      "--2022-05-04 16:55:34--  https://isic-challenge-data.s3.amazonaws.com/2018/ISIC2018_Task1-2_Training_Input.zip\n",
      "Resolving isic-challenge-data.s3.amazonaws.com (isic-challenge-data.s3.amazonaws.com)... 52.216.162.219\n",
      "Connecting to isic-challenge-data.s3.amazonaws.com (isic-challenge-data.s3.amazonaws.com)|52.216.162.219|:443... connected.\n",
      "HTTP request sent, awaiting response... 200 OK\n",
      "Length: 11165358566 (10G) [application/zip]\n",
      "Saving to: ‘ISIC2018_Task1-2_Training_Input.zip’\n",
      "\n",
      "ISIC2018_Task1-2_Tr 100%[===================>]  10,40G  26,6MB/s    in 9m 2s   \n",
      "\n",
      "2022-05-04 17:04:38 (19,6 MB/s) - ‘ISIC2018_Task1-2_Training_Input.zip’ saved [11165358566/11165358566]\n",
      "\n",
      "--2022-05-04 17:08:10--  https://isic-challenge-data.s3.amazonaws.com/2018/ISIC2018_Task1_Training_GroundTruth.zip\n",
      "Resolving isic-challenge-data.s3.amazonaws.com (isic-challenge-data.s3.amazonaws.com)... 52.217.13.252\n",
      "Connecting to isic-challenge-data.s3.amazonaws.com (isic-challenge-data.s3.amazonaws.com)|52.217.13.252|:443... connected.\n",
      "HTTP request sent, awaiting response... 200 OK\n",
      "Length: 27402895 (26M) [application/zip]\n",
      "Saving to: ‘ISIC2018_Task1_Training_GroundTruth.zip’\n",
      "\n",
      "ISIC2018_Task1_Trai 100%[===================>]  26,13M  16,4MB/s    in 1,6s    \n",
      "\n",
      "2022-05-04 17:08:13 (16,4 MB/s) - ‘ISIC2018_Task1_Training_GroundTruth.zip’ saved [27402895/27402895]\n",
      "\n",
      "--2022-05-04 17:08:17--  https://isic-challenge-data.s3.amazonaws.com/2018/ISIC2018_Task1-2_Validation_Input.zip\n",
      "Resolving isic-challenge-data.s3.amazonaws.com (isic-challenge-data.s3.amazonaws.com)... 52.217.13.252\n",
      "Connecting to isic-challenge-data.s3.amazonaws.com (isic-challenge-data.s3.amazonaws.com)|52.217.13.252|:443... connected.\n",
      "HTTP request sent, awaiting response... 200 OK\n",
      "Length: 239231159 (228M) [application/zip]\n",
      "Saving to: ‘ISIC2018_Task1-2_Validation_Input.zip’\n",
      "\n",
      "ISIC2018_Task1-2_Va 100%[===================>] 228,15M  28,9MB/s    in 9,2s    \n",
      "\n",
      "2022-05-04 17:08:27 (24,7 MB/s) - ‘ISIC2018_Task1-2_Validation_Input.zip’ saved [239231159/239231159]\n",
      "\n",
      "--2022-05-04 17:08:32--  https://isic-challenge-data.s3.amazonaws.com/2018/ISIC2018_Task1_Validation_GroundTruth.zip\n",
      "Resolving isic-challenge-data.s3.amazonaws.com (isic-challenge-data.s3.amazonaws.com)... 52.217.171.177\n",
      "Connecting to isic-challenge-data.s3.amazonaws.com (isic-challenge-data.s3.amazonaws.com)|52.217.171.177|:443... connected.\n",
      "HTTP request sent, awaiting response... 200 OK\n",
      "Length: 759706 (742K) [application/zip]\n",
      "Saving to: ‘ISIC2018_Task1_Validation_GroundTruth.zip’\n",
      "\n",
      "ISIC2018_Task1_Vali 100%[===================>] 741,90K  1,42MB/s    in 0,5s    \n",
      "\n",
      "2022-05-04 17:08:33 (1,42 MB/s) - ‘ISIC2018_Task1_Validation_GroundTruth.zip’ saved [759706/759706]\n",
      "\n"
     ]
    }
   ],
   "source": [
    "%cd \"/home/staff/azad/deeplearning/datasets/ISIC2018\"\n",
    "\n",
    "\n",
    "# training\n",
    "!wget https://isic-challenge-data.s3.amazonaws.com/2018/ISIC2018_Task1-2_Training_Input.zip\n",
    "!unzip -q ISIC2018_Task1-2_Training_Input.zip\n",
    "!wget https://isic-challenge-data.s3.amazonaws.com/2018/ISIC2018_Task1_Training_GroundTruth.zip\n",
    "!unzip -q ISIC2018_Task1_Training_GroundTruth.zip\n",
    "\n",
    "# validation\n",
    "!wget https://isic-challenge-data.s3.amazonaws.com/2018/ISIC2018_Task1-2_Validation_Input.zip\n",
    "!unzip -q ISIC2018_Task1-2_Validation_Input.zip\n",
    "!wget https://isic-challenge-data.s3.amazonaws.com/2018/ISIC2018_Task1_Validation_GroundTruth.zip\n",
    "!unzip -q ISIC2018_Task1_Validation_GroundTruth.zip"
   ]
  },
  {
   "cell_type": "code",
   "execution_count": null,
   "id": "standard-relevance",
   "metadata": {},
   "outputs": [],
   "source": []
  }
 ],
 "metadata": {
  "kernelspec": {
   "display_name": "Python 3",
   "language": "python",
   "name": "python3"
  },
  "language_info": {
   "codemirror_mode": {
    "name": "ipython",
    "version": 3
   },
   "file_extension": ".py",
   "mimetype": "text/x-python",
   "name": "python",
   "nbconvert_exporter": "python",
   "pygments_lexer": "ipython3",
   "version": "3.8.10"
  }
 },
 "nbformat": 4,
 "nbformat_minor": 5
}
