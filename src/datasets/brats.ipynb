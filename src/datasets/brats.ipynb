{
 "cells": [
  {
   "cell_type": "code",
   "execution_count": 1,
   "id": "scheduled-retirement",
   "metadata": {},
   "outputs": [
    {
     "name": "stdout",
     "output_type": "stream",
     "text": [
      "total 13G\r\n",
      "drwxr-xr-x   5 ecke students  36K Apr 14 12:55 RSNA_ASNR_MICCAI_BraTS2021_TrainingData\r\n",
      "drwxrwxrwx   5 azad staff    4,0K Dez 17  2021 MICCAI_BraTS_2018_Data_Training\r\n",
      "drwxrwxrwx   4 azad staff    4,0K Sep  8  2021 brats2021_classification\r\n",
      "-rwxrwxrwx   1 azad staff     13G Jul 12  2021 RSNA_ASNR_MICCAI_BraTS2021_TrainingData.zip\r\n",
      "-rwxrwxrwx   1 azad staff     11M Jul 12  2021 BraTS2021_00621.zip\r\n",
      "drwxrwxrwx 371 azad staff     20K Jul  8  2021 MICCAI_BraTS2020_TrainingData\r\n"
     ]
    }
   ],
   "source": [
    "!ls -lht /images/PublicDataset/brats/"
   ]
  },
  {
   "cell_type": "code",
   "execution_count": null,
   "id": "revised-winning",
   "metadata": {},
   "outputs": [],
   "source": []
  }
 ],
 "metadata": {
  "kernelspec": {
   "display_name": "pytorch_cuda11",
   "language": "python",
   "name": "pytorch_cuda11"
  },
  "language_info": {
   "codemirror_mode": {
    "name": "ipython",
    "version": 3
   },
   "file_extension": ".py",
   "mimetype": "text/x-python",
   "name": "python",
   "nbconvert_exporter": "python",
   "pygments_lexer": "ipython3",
   "version": "3.9.6"
  }
 },
 "nbformat": 4,
 "nbformat_minor": 5
}
