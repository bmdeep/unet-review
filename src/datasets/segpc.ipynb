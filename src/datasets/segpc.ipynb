{
<<<<<<< HEAD
 "cells": [
  {
   "cell_type": "code",
   "execution_count": null,
   "id": "thick-schedule",
   "metadata": {},
   "outputs": [],
   "source": []
  },
  {
   "cell_type": "markdown",
   "id": "wicked-dressing",
   "metadata": {},
   "source": [
    "## Importing of packages"
   ]
  },
  {
   "cell_type": "markdown",
   "id": "weekly-terminal",
   "metadata": {},
   "source": [
    "### predefined packages"
   ]
  },
  {
   "cell_type": "code",
   "execution_count": null,
   "id": "introductory-hungarian",
   "metadata": {},
   "outputs": [],
   "source": [
    "from configparser import ConfigParser\n",
    "import numpy as np\n",
    "from matplotlib import pyplot as plt\n",
    "from tqdm import tqdm\n",
    "import cv2, sys\n",
    "from PIL import Image\n",
    "from glob import glob\n",
    "import pickle\n",
    "from pathlib import Path\n",
    "import json\n",
    "import gc\n",
    "\n"
   ]
  },
  {
   "cell_type": "markdown",
   "id": "funny-joseph",
   "metadata": {},
   "source": [
    "### packages"
   ]
  },
  {
   "cell_type": "code",
   "execution_count": null,
   "id": "rapid-drill",
   "metadata": {},
   "outputs": [],
   "source": [
    "import sys \n",
    "sys.path.append('./src')\n",
    "\n",
    "from utilities import (\n",
    "    resize_pad, sim_resize, resize, show_sbs, clean_nuc_mask,\n",
    "    crop_multi_scale_submats, do_cyto_pred_process, \n",
    "    get_pure_img_bbox, get_cyto_mask, \n",
    "    do_cyto_postprocess, get_biggest_cc_msk\n",
    ")"
   ]
  },
  {
   "cell_type": "markdown",
   "id": "hidden-trance",
   "metadata": {},
   "source": [
    "## Loading the configuration (`conf.json`)"
   ]
  },
  {
   "cell_type": "code",
   "execution_count": null,
   "id": "unauthorized-joseph",
   "metadata": {},
   "outputs": [],
   "source": [
    "CONFIG_FILE_PATH = \"./configs/config.json\""
   ]
  },
  {
   "cell_type": "markdown",
   "id": "three-southwest",
   "metadata": {},
   "source": [
    "In this section, the required configuration and static variable are loaded."
   ]
  },
  {
   "cell_type": "code",
   "execution_count": null,
   "id": "minus-poultry",
   "metadata": {},
   "outputs": [],
   "source": [
    "with open(CONFIG_FILE_PATH, 'r') as fp:\n",
    "    config = json.load(fp)\n",
    "\n",
    "Path(config['DATA']['NPY_DIR']).mkdir(parents=True, exist_ok=True)\n",
    "    \n",
    "run_name = config['RUN']['name']\n",
    "imsk_fn = config['RUN']['imsk_folder_name']\n",
    "final_imsk_fn = config['RUN']['final_imsk_folder_name']\n",
    "\n",
    "Path('./results').mkdir(parents=True, exist_ok=True)\n",
    "Path('./results/run_{}'.format(run_name)).mkdir(parents=True, exist_ok=True)\n",
    "Path('./results/run_{}/{}'.format(run_name, imsk_fn)).mkdir(parents=True, exist_ok=True)\n",
    "Path('./results/run_{}/{}'.format(run_name, final_imsk_fn)).mkdir(parents=True, exist_ok=True)\n",
    "Path('./results/run_{}/{}/filtered'.format(run_name, imsk_fn)).mkdir(parents=True, exist_ok=True)\n",
    "\n",
    "IMSK_DIR   = './results/run_{}/{}/'        .format(run_name, imsk_fn)\n",
    "F_IMSK_DIR = './results/run_{}/{}/filtered/'.format(run_name, imsk_fn)\n",
    "\n",
    "CROP_SCALE_LIST = config['RUN']['crop_scale_list']\n",
    "for sc in CROP_SCALE_LIST+[0,]:\n",
    "    Path('{}sc_{:1.2f}'.format(  IMSK_DIR, sc)).mkdir(parents=True, exist_ok=True)\n",
    "    Path('{}sc_{:1.2f}'.format(F_IMSK_DIR, sc)).mkdir(parents=True, exist_ok=True)\n",
    "\n"
   ]
  },
  {
   "cell_type": "markdown",
   "id": "secure-galaxy",
   "metadata": {},
   "source": [
    "## Preparation of input data for the first stage\n",
    "### Generating $X$ for the first stage"
   ]
  },
  {
   "cell_type": "code",
   "execution_count": null,
   "id": "casual-kentucky",
   "metadata": {},
   "outputs": [],
   "source": [
    "DATA_CFG = config['DATA']\n",
    "\n",
    "X_path_list = glob('{}*{}'.format(config['DATA']['X_DIR'], config['DATA']['X_FILE_TYPE_EXTENSION']))\n",
    "\n",
    "X = []\n",
    "X_org = []\n",
    "X_names = []\n",
    "X_shapes = []\n",
    "for xp in tqdm(X_path_list):\n",
    "    fn = xp.split('/')[-1].split('.')[0]\n",
    "    X_names.append(fn)\n",
    "    \n",
    "    img = np.array(Image.open(xp))\n",
    "    X_org.append(img)\n",
    "    X_shapes.append(img.shape)\n",
    "    \n",
    "    img_ = resize(img, tuple(config['NUCS']['MODEL']['input_shape'][:2]), interpolation='linear')\n",
    "    X.append(img_)\n",
    "    \n",
    "\n",
    "X = np.array(X)\n",
    "np.save(config['DATA']['NPY_DIR']+'X_nuc', X.astype(np.uint8))\n",
    "\n"
   ]
  },
  {
   "cell_type": "code",
   "execution_count": null,
   "id": "previous-track",
   "metadata": {},
   "outputs": [],
   "source": []
  },
  {
   "cell_type": "code",
   "execution_count": null,
   "id": "better-australia",
   "metadata": {},
   "outputs": [],
   "source": [
    "scales_cropped_data = []\n",
    "for scale in CROP_SCALE_LIST:\n",
    "    scale_cropped_data = []\n",
    "    for i in tqdm(range(len(X_names)), desc='Scale:{:2.2f}'.format(scale)):\n",
    "        mask, image, name = nuc_pred_masks[i], X[i], X_names[i]\n",
    "        cropped_nucs_data = crop_multi_scale_submats(image, name, mask, [scale])\n",
    "        scale_cropped_data.append(cropped_nucs_data)\n",
    "    scales_cropped_data.append(scale_cropped_data)\n",
    "\n",
    "_, axs = plt.subplots(2, len(scales_cropped_data), figsize=(len(scales_cropped_data)*5, 12))\n",
    "for i, scale_cropped_data in enumerate(scales_cropped_data):\n",
    "    tmp = 1\n",
    "    simg = scale_cropped_data[0]['data'][tmp][0]['simg']\n",
    "    snmsk = scale_cropped_data[0]['data'][tmp][0]['snmsk']\n",
    "    axs[0, i].imshow(simg[:,:,:3])\n",
    "    axs[0, i].set_title('Scale:{:1.2f}'.format(CROP_SCALE_LIST[i]))\n",
    "    axs[1, i].imshow(snmsk)\n",
    "plt.show()"
   ]
  },
  {
   "cell_type": "code",
   "execution_count": null,
   "id": "better-shipping",
   "metadata": {},
   "outputs": [],
   "source": []
  },
  {
   "cell_type": "code",
   "execution_count": null,
   "id": "productive-nirvana",
   "metadata": {},
   "outputs": [],
   "source": []
  },
  {
   "cell_type": "code",
   "execution_count": null,
   "id": "retained-routine",
   "metadata": {},
   "outputs": [],
   "source": []
  },
  {
   "cell_type": "code",
   "execution_count": null,
   "id": "ceramic-spain",
   "metadata": {},
   "outputs": [],
   "source": []
  },
  {
   "cell_type": "code",
   "execution_count": null,
   "id": "aboriginal-collectible",
   "metadata": {},
   "outputs": [],
   "source": []
  },
  {
   "cell_type": "code",
   "execution_count": null,
   "id": "champion-postcard",
   "metadata": {},
   "outputs": [],
   "source": []
  },
  {
   "cell_type": "code",
   "execution_count": null,
   "id": "elder-bridal",
   "metadata": {},
   "outputs": [],
   "source": []
  },
  {
   "cell_type": "code",
   "execution_count": null,
   "id": "departmental-perfume",
   "metadata": {},
   "outputs": [],
   "source": []
  }
 ],
 "metadata": {
  "kernelspec": {
   "display_name": "Python 3",
   "language": "python",
   "name": "python3"
  },
  "language_info": {
   "codemirror_mode": {
    "name": "ipython",
    "version": 3
   },
   "file_extension": ".py",
   "mimetype": "text/x-python",
   "name": "python",
   "nbconvert_exporter": "python",
   "pygments_lexer": "ipython3",
   "version": "3.8.10"
  }
 },
=======
 "cells": [],
 "metadata": {},
>>>>>>> 364e44ee870e4a4cb6d639b6858f35ca6164d2c8
 "nbformat": 4,
 "nbformat_minor": 5
}
